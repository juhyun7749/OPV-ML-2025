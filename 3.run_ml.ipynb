{
 "cells": [
  {
   "cell_type": "code",
   "execution_count": null,
   "metadata": {},
   "outputs": [
    {
     "name": "stdout",
     "output_type": "stream",
     "text": [
      "Cross-validation R-squared scores: [0.76513119 0.77011364 0.81779468 0.83786625 0.86241096]\n",
      "Mean R-squared: 0.81066\n",
      "Standard deviation: 0.03791\n",
      "Training R-squared: 0.88675\n",
      "Training Mean Absolute Error: 1.00298,RMSE: 1.57333\n",
      "Test R-squared: 0.86474\n",
      "Test Mean Absolute Error: 1.14529, RMSE: 1.67926\n"
     ]
    }
   ],
   "source": [
    "\n",
    "import numpy as np\n",
    "import pandas as pd\n",
    "from sklearn.model_selection import train_test_split, cross_val_score\n",
    "from sklearn.preprocessing import StandardScaler\n",
    "from xgboost import XGBRegressor\n",
    "from sklearn.metrics import mean_absolute_error,  mean_squared_error,r2_score\n",
    "from sklearn.model_selection import GridSearchCV\n",
    "\n",
    "import seaborn as sns\n",
    "\n",
    "data = pd.read_csv(\"0627_PCE_metod1.csv\")\n",
    "\n",
    "\n",
    "\n",
    "train_data, test_data = train_test_split(data, test_size=0.2,random_state=42)\n",
    "x_train = train_data.select_dtypes(include=['number']).drop(['PCE'], axis=1)\n",
    "y_train = train_data['PCE']\n",
    "x_test = test_data.select_dtypes(include=['number']).drop(['PCE'], axis=1)\n",
    "y_true = test_data['PCE']  # 테스트 데이터의 실제 값\n",
    "\n",
    "import xgboost\n",
    "from sklearn.model_selection import RandomizedSearchCV\n",
    "from sklearn.preprocessing import StandardScaler\n",
    "\n",
    "\n",
    "scaler = StandardScaler()\n",
    "x_trainScaled_np = scaler.fit_transform(x_train)\n",
    "x_train_scaled = pd.DataFrame(x_trainScaled_np, index=x_train.index, columns=x_train.columns)\n",
    "x_test_scaled = scaler.transform(x_test)\n",
    "\n",
    "\n",
    "param_grid = {\n",
    "    \"max_depth\": [3, 4, 5, 6],\n",
    "    \"n_estimators\": [500, 600, 700],\n",
    "    \"learning_rate\": [0.01, 0.015]\n",
    "}\n",
    "\n",
    "search = GridSearchCV(XGBRegressor(eval_metric='rmsle'), param_grid, cv=5, n_jobs=-1)\n",
    "search.fit(x_train_scaled, y_train)\n",
    "\n",
    "\n",
    "regressor = XGBRegressor(**search.best_params_, eval_metric='rmsle')\n",
    "regressor.fit(x_train_scaled, y_train)\n",
    "\n",
    "cross_val_scores = cross_val_score(regressor, x_train_scaled, y_train, cv=5, scoring='r2')\n",
    "\n",
    "\n",
    "print(f\"Cross-validation R-squared scores: {cross_val_scores}\")\n",
    "print(f\"Mean R-squared: {np.mean(cross_val_scores):.5f}\")\n",
    "print(f\"Standard deviation: {np.std(cross_val_scores):.5f}\")\n",
    "\n",
    "\n",
    "train_predictions = regressor.predict(x_train_scaled)\n",
    "predictions = regressor.predict(x_test_scaled)\n",
    "\n",
    "\n",
    "train_r2 = r2_score(y_train, train_predictions)\n",
    "train_mae = mean_absolute_error(y_train, train_predictions)\n",
    "train_rmse = np.sqrt(mean_squared_error(y_train, train_predictions))\n",
    "test_r2 = r2_score(y_true, predictions)\n",
    "test_mae = mean_absolute_error(y_true, predictions)\n",
    "test_rmse = np.sqrt(mean_squared_error(y_true, predictions))\n",
    "\n",
    "\n",
    "\n",
    "\n",
    "print(f\"Training R-squared: {train_r2:.5f}\")\n",
    "print(f\"Training Mean Absolute Error: {train_mae:.5f},RMSE: {train_rmse:.5f}\")\n",
    "print(f\"Test R-squared: {test_r2:.5f}\")\n",
    "print(f\"Test Mean Absolute Error: {test_mae:.5f}, RMSE: {test_rmse:.5f}\")\n"
   ]
  }
 ],
 "metadata": {
  "kernelspec": {
   "display_name": ".venv",
   "language": "python",
   "name": "python3"
  },
  "language_info": {
   "codemirror_mode": {
    "name": "ipython",
    "version": 3
   },
   "file_extension": ".py",
   "mimetype": "text/x-python",
   "name": "python",
   "nbconvert_exporter": "python",
   "pygments_lexer": "ipython3",
   "version": "3.9.13"
  }
 },
 "nbformat": 4,
 "nbformat_minor": 2
}
